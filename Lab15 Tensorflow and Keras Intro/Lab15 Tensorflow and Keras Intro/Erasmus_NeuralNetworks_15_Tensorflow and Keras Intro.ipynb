{
 "cells": [
  {
   "cell_type": "markdown",
   "metadata": {},
   "source": [
    "# Erasmus Neural Networks\n",
    "http://michalbereta.pl/nn\n",
    "## Introduction to TensorFlow and Keras\n"
   ]
  },
  {
   "cell_type": "markdown",
   "metadata": {},
   "source": [
    "## Before you start\n",
    "\n",
    "Exacute the examples.\n",
    "\n",
    "Then, do the tasks and send back the notebook.\n",
    "\n",
    "Change the name of this notebook according to the schema: {YourSurname}\\_{YourFirstName}\\_{OriginalFileName}.\n",
    "\n",
    "Be sure to fill all places with \"YOUR ANSWER HERE\".\n",
    "\n",
    "When ready, send the notebook, with all the necessary files zipped, to the teacher."
   ]
  },
  {
   "cell_type": "markdown",
   "metadata": {},
   "source": [
    "### TensorFlow and Keras\n",
    "\n",
    "Keras: https://keras.io/\n",
    "\n",
    "TensorFlow: https://www.tensorflow.org/"
   ]
  },
  {
   "cell_type": "markdown",
   "metadata": {},
   "source": [
    "### Checking the configuration of TensorFlow"
   ]
  },
  {
   "cell_type": "code",
   "execution_count": null,
   "metadata": {},
   "outputs": [],
   "source": [
    "import tensorflow as tf\n",
    "\n",
    "\n",
    "print(tf.__version__ )\n",
    "print(\"------------------\")\n",
    "if tf.test.gpu_device_name():\n",
    "    print('Default GPU Device: {}'.format(tf.test.gpu_device_name()))\n",
    "else:\n",
    "    print(\"Please install GPU version of TF\")\n",
    "\n",
    "print(\"------------------\")\n",
    "from tensorflow.python.client import device_lib\n",
    "print(device_lib.list_local_devices())\n",
    "print(\"------------------\")\n",
    "print(\"Is built with cuda:\",tf.test.is_built_with_cuda())\n",
    "print(\"------------------\")\n",
    "\n",
    "with tf.device('/gpu:0'):\n",
    "    a = tf.constant([1.0, 2.0, 3.0, 4.0, 5.0, 6.0], shape=[2, 3], name='a')\n",
    "    b = tf.constant([1.0, 2.0, 3.0, 4.0, 5.0, 6.0], shape=[3, 2], name='b')\n",
    "    c = tf.matmul(a, b)\n",
    "\n",
    "with tf.Session() as sess:\n",
    "    print (sess.run(c))\n",
    "    \n",
    "    "
   ]
  },
  {
   "cell_type": "markdown",
   "metadata": {},
   "source": [
    "### Solving simple optimization problem in TensorFlow\n",
    "\n",
    "In the following example we are going to find $w$ so that \n",
    "\n",
    "$y = w*x$\n",
    "\n",
    "for $y=12.0$ and $x=1.1$. \n",
    "\n",
    "We will minimie the squared error."
   ]
  },
  {
   "cell_type": "code",
   "execution_count": null,
   "metadata": {},
   "outputs": [],
   "source": [
    "import tensorflow as tf\n",
    "\n",
    "x = tf.constant(1.1, name='input')\n",
    "w = tf.Variable(0.8, name='weight') #random starting value\n",
    "y = tf.multiply(w, x, name='output')\n",
    "y_ = tf.constant(12.0, name='correct_value')\n",
    "\n",
    "loss = tf.pow(y - y_, 2, name='loss')\n",
    "train_step = tf.train.GradientDescentOptimizer(0.05).minimize(loss)\n",
    "\n",
    "for value in [x, w, y, y_, loss]:\n",
    "    tf.summary.scalar(value.op.name, value)\n",
    "\n",
    "summaries = tf.summary.merge_all()\n",
    "\n",
    "sess = tf.Session()\n",
    "summary_writer = tf.summary.FileWriter('log_simple_stats', sess.graph)\n",
    "\n",
    "sess.run(tf.initialize_all_variables())\n",
    "for i in range(300):\n",
    "    summary_writer.add_summary(sess.run(summaries), i)\n",
    "    sess.run(train_step)\n",
    "    print(sess.run([loss, w, y]))\n"
   ]
  },
  {
   "cell_type": "markdown",
   "metadata": {},
   "source": [
    "### Solving XOR with Keras and TensorFlow"
   ]
  },
  {
   "cell_type": "code",
   "execution_count": null,
   "metadata": {},
   "outputs": [],
   "source": [
    "import tensorflow as tf\n",
    "import numpy as np\n",
    "import keras\n",
    "from keras.models import Sequential\n",
    "from keras.layers import Dense\n",
    "from keras.layers import Dropout\n",
    "from keras.models import load_model\n",
    "from keras.utils import np_utils\n",
    "\n",
    "\n",
    "print('tensorflow version',tf.__version__)\n",
    "print('keras version',keras.__version__)\n",
    "\n",
    "xtrain = np.array([[0,0],[0,1],[1,0],[1,1]])\n",
    "ytrain = np.array([0,1,1,0])\n",
    "\n",
    "inputs_num = 2\n",
    "\n",
    "# one hot encode outputs\n",
    "ytrain = np_utils.to_categorical(ytrain)\n",
    "print('\\nytrain=',ytrain)\n",
    "num_classes = ytrain.shape[1]\n",
    "\n",
    "# define baseline model\n",
    "model = Sequential()\n",
    "model.add(Dense(2, input_dim=inputs_num, kernel_initializer='normal', activation='relu'))\n",
    "model.add(Dense(num_classes, kernel_initializer='normal', activation='softmax'))\n",
    "\n",
    "model.compile(loss='categorical_crossentropy', optimizer='adam', metrics=['accuracy'])\n",
    "\n",
    "print()\n",
    "# Fit the model\n",
    "model.fit(xtrain, ytrain, epochs=100, batch_size=4, verbose=2)\n",
    "\n",
    "# Final evaluation of the model\n",
    "scores = model.evaluate(xtrain, ytrain, verbose=0)\n",
    "print(\"\\nTest error: %.2f%%\" % (100-scores[1]*100))\n",
    "\n",
    "predictions = model.predict(xtrain)\n",
    "print('\\npredictions',predictions)\n",
    "predicted_classes = model.predict_classes(xtrain)\n",
    "print('\\npredicted_classes',predicted_classes)\n",
    "\n",
    "\n",
    "print('end')"
   ]
  },
  {
   "cell_type": "markdown",
   "metadata": {},
   "source": [
    "### 1D function approximation with Keras and TensorFlow"
   ]
  },
  {
   "cell_type": "code",
   "execution_count": null,
   "metadata": {},
   "outputs": [],
   "source": [
    "import tensorflow as tf\n",
    "import numpy as np\n",
    "import keras\n",
    "from keras.models import Sequential\n",
    "from keras.layers import Dense\n",
    "from keras.layers import Dropout\n",
    "from keras.models import load_model\n",
    "from keras.utils import np_utils\n",
    "import matplotlib.pyplot as plt\n",
    "\n",
    "%matplotlib notebook\n",
    "\n",
    "#####################################################\n",
    "def fun1(x):\n",
    "    return np.sin(0.5*x) + np.sin(x + 2)\n",
    "#####################################################\n",
    "\n",
    "print('tensorflow version',tf.__version__)\n",
    "print('keras version',keras.__version__)\n",
    "\n",
    "xmin = -6\n",
    "xmax = 6\n",
    "\n",
    "x = np.arange(xmin, xmax, 0.2)\n",
    "#print (x)\n",
    "\n",
    "#real values of unknown process\n",
    "d = fun1(x)\n",
    "\n",
    "#training data with noise\n",
    "sigma = 0.1\n",
    "tr_d = d + np.random.randn(len(d)) * sigma\n",
    "\n",
    "plt.plot(x, d)\n",
    "plt.plot(x, tr_d, 'o')\n",
    "\n",
    "plt.show()\n",
    "\n",
    "inputs_num = 1\n",
    "outputs_num = 1\n",
    "\n",
    "# define baseline model\n",
    "model = Sequential()\n",
    "model.add(Dense(50, input_dim=inputs_num, kernel_initializer='normal', activation='relu'))\n",
    "model.add(Dense(outputs_num, kernel_initializer='normal', activation='linear'))\n",
    "\n",
    "#model.compile(loss='mean_squared_error', optimizer=keras.optimizers.SGD(lr=0.001))\n",
    "model.compile(loss='mean_squared_error', optimizer=keras.optimizers.Adam())\n",
    "\n",
    "print()\n",
    "# Fit the model\n",
    "model.fit(x, tr_d, epochs=2000, verbose=1)\n",
    "\n",
    "# Final evaluation of the model\n",
    "train_ans = model.predict(x)\n",
    "#print('train_ans',train_ans)\n",
    "\n",
    "#test data\n",
    "xtest = np.arange(xmin, xmax, 0.02) \n",
    "ytest = model.predict(xtest)\n",
    "\n",
    "plt.figure()\n",
    "plt.plot(x, tr_d, 'o')\n",
    "plt.plot(xtest, ytest)\n",
    "plt.show()\n",
    "print('end')"
   ]
  },
  {
   "cell_type": "markdown",
   "metadata": {},
   "source": [
    "### Task 1\n",
    "\n",
    "\n",
    "Use Keras to train MLP with 1 and 2 hidden layers for pima and sonar databases. Compare two types of output layers: 1) linear with MSE loss, 2) softmax with cross-entropy loss."
   ]
  },
  {
   "cell_type": "markdown",
   "metadata": {},
   "source": [
    "#### YOUR ANSWERS HERE\n",
    "My results are as follows..."
   ]
  },
  {
   "cell_type": "code",
   "execution_count": null,
   "metadata": {},
   "outputs": [],
   "source": [
    "#YOUR CODE HERE"
   ]
  }
 ],
 "metadata": {
  "kernelspec": {
   "display_name": "Python 3",
   "language": "python",
   "name": "python3"
  },
  "language_info": {
   "codemirror_mode": {
    "name": "ipython",
    "version": 3
   },
   "file_extension": ".py",
   "mimetype": "text/x-python",
   "name": "python",
   "nbconvert_exporter": "python",
   "pygments_lexer": "ipython3",
   "version": "3.7.4"
  }
 },
 "nbformat": 4,
 "nbformat_minor": 2
}
