{
 "cells": [
  {
   "cell_type": "markdown",
   "metadata": {},
   "source": [
    "# Erasmus Neural Networks\n",
    "http://michalbereta.pl/nn\n",
    "## Softmax layer\n"
   ]
  },
  {
   "cell_type": "markdown",
   "metadata": {},
   "source": [
    "## Before you start\n",
    "\n",
    "Exacute the examples.\n",
    "\n",
    "Then, do the tasks and send back the notebook.\n",
    "\n",
    "Change the name of this notebook according to the schema: {YourSurname}\\_{YourFirstName}\\_{OriginalFileName}.\n",
    "\n",
    "Be sure to fill all places with \"YOUR ANSWER HERE\".\n",
    "\n",
    "When ready, send the notebook, with all the necessary files zipped, to the teacher."
   ]
  },
  {
   "cell_type": "markdown",
   "metadata": {},
   "source": [
    "### Softmax transform\n",
    "\n"
   ]
  },
  {
   "cell_type": "code",
   "execution_count": null,
   "metadata": {},
   "outputs": [],
   "source": [
    "import numpy as np\n",
    "import matplotlib.pyplot as plt\n",
    "%matplotlib notebook\n",
    "\n",
    "#score functions values (unnormalized log probabilities)\n",
    "f = np.array([10.1, 3.4, 7.5])\n",
    "print(f)\n",
    "\n",
    "#unnormalized probabilities\n",
    "unnorm_probs = np.exp(f)\n",
    "print(unnorm_probs)\n",
    "\n",
    "#normalized probabilities\n",
    "probs = unnorm_probs / np.sum(unnorm_probs)\n",
    "print(probs)\n",
    "print(np.sum(probs))"
   ]
  },
  {
   "cell_type": "markdown",
   "metadata": {},
   "source": [
    "### Softmax transform - trick for numerical stability"
   ]
  },
  {
   "cell_type": "code",
   "execution_count": null,
   "metadata": {},
   "outputs": [],
   "source": [
    "import numpy as np\n",
    "import matplotlib.pyplot as plt\n",
    "\n",
    "#score functions values (unnormalized log probabilities)\n",
    "f = np.array([10.1, 3.4, 7.5])\n",
    "print(f)\n",
    "\n",
    "#unnormalized probabilities\n",
    "unnorm_probs = np.exp(f) # this could be numerically problematic\n",
    "print(unnorm_probs)\n",
    "\n",
    "#normalized probabilities\n",
    "probs1 = unnorm_probs / np.sum(unnorm_probs)\n",
    "print(probs1)\n",
    "print(np.sum(probs1))\n",
    "\n",
    "#the trick, for numerical stability\n",
    "f = f - np.max(f)\n",
    "print('\\nafter the trick...')\n",
    "unnorm_probs = np.exp(f)\n",
    "print(unnorm_probs)\n",
    "probs2 = unnorm_probs / np.sum(unnorm_probs)\n",
    "print(probs2)\n",
    "print(np.sum(probs2))\n",
    "print(probs1 == probs2)\n",
    "print(np.abs(probs1-probs2).max())"
   ]
  },
  {
   "cell_type": "markdown",
   "metadata": {},
   "source": [
    "### Experiments with cross-entropy"
   ]
  },
  {
   "cell_type": "code",
   "execution_count": null,
   "metadata": {},
   "outputs": [],
   "source": [
    "import numpy as np\n",
    "dlen = 10\n",
    "\n",
    "#two uniform random distribution\n",
    "p = np.random.rand(dlen)\n",
    "p = p/p.sum()\n",
    "print(p)\n",
    "print(p.sum())\n",
    "\n",
    "q = np.random.rand(dlen)\n",
    "q = q/q.sum()\n",
    "print(q)\n",
    "print(q.sum())\n",
    "\n",
    "#note that cross_entrophy_pq != cross_entrophy_qp\n",
    "cross_entrophy_pq = -(p*np.log(q)).sum()\n",
    "print('cross_entrophy_pq=',cross_entrophy_pq)\n",
    "\n",
    "cross_entrophy_qp = -(q*np.log(p)).sum()\n",
    "print('cross_entrophy_qp=',cross_entrophy_qp)\n",
    "\n",
    "cross_entrophy_pp = -(p*np.log(p)).sum()\n",
    "print('cross_entrophy_pp=',cross_entrophy_pp)\n",
    "\n",
    "cross_entrophy_qq = -(q*np.log(q)).sum()\n",
    "print('cross_entrophy_qq=',cross_entrophy_qq)\n",
    "\n",
    "\n",
    "#two \"peaky\" distributions\n",
    "print()\n",
    "d1 = np.zeros(dlen, dtype=np.float64) + 1e-15  # 1e-15 is for numerical stability, as we cannot calculate log(0)\n",
    "d1[1] = 1\n",
    "d1 = d1/d1.sum()\n",
    "print(d1)\n",
    "\n",
    "d2 = np.zeros(dlen, dtype=np.float64) + 1e-15\n",
    "d2[-2] = 1\n",
    "d2 = d2/d2.sum()\n",
    "print(d2)\n",
    "\n",
    "\n",
    "cross_entrophy_d1d2 = -(d1*np.log(d2)).sum()\n",
    "print('cross_entrophy_d1d2=',cross_entrophy_d1d2)\n",
    "\n",
    "cross_entrophy_d2d1 = -(d2*np.log(d1)).sum()\n",
    "print('cross_entrophy_d2d1=',cross_entrophy_d2d1)\n",
    "\n",
    "cross_entrophy_d1d1 = -(d1*np.log(d1)).sum()\n",
    "print('cross_entrophy_d1d1=',cross_entrophy_d1d1)\n",
    "\n",
    "cross_entrophy_d2d2 = -(d2*np.log(d2)).sum()\n",
    "print('cross_entrophy_d2d2=',cross_entrophy_d2d2)\n"
   ]
  },
  {
   "cell_type": "markdown",
   "metadata": {},
   "source": [
    "### Cross entropy values (mean values over all examples) - recommendation:\n",
    "\n",
    "Cross-Entropy = 0.00: Perfect probabilities\n",
    "\n",
    "Cross-Entropy < 0.02: Great\n",
    "\n",
    "Cross-Entropy < 0.05: Very good\n",
    "\n",
    "Cross-Entropy < 0.20: Fine\n",
    "\n",
    "Cross-Entropy > 0.30: Not great\n",
    "\n",
    "Cross-Entropy > 1.00: Terrible\n",
    "\n",
    "Cross-Entropy > 2.00 Very bad.\n"
   ]
  },
  {
   "cell_type": "markdown",
   "metadata": {},
   "source": [
    "### Simple data from three classe"
   ]
  },
  {
   "cell_type": "code",
   "execution_count": null,
   "metadata": {},
   "outputs": [],
   "source": [
    "import numpy as np\n",
    "import matplotlib.pyplot as plt\n",
    "\n",
    "X = np.loadtxt('data.txt')\n",
    "print(X)\n",
    "\n",
    "plt.plot(X[0:3,0], X[0:3,1],'or')\n",
    "plt.plot(X[3:6,0], X[3:6,1],'og')\n",
    "plt.plot(X[6:9,0], X[6:9,1],'ob')\n",
    "plt.show()"
   ]
  },
  {
   "cell_type": "markdown",
   "metadata": {},
   "source": [
    "### Sofmax layer for multiclass classification problems\n",
    "\n",
    "Note: this model is strictly for classification problems"
   ]
  },
  {
   "cell_type": "code",
   "execution_count": null,
   "metadata": {},
   "outputs": [],
   "source": [
    "import numpy as np\n",
    "import matplotlib.pyplot as plt\n",
    "\n",
    "class SoftMaxLinear:\n",
    "    def __init__(self, inputs_num, outputs_num):\n",
    "        pass\n",
    "    def Forward(self, X): #examples as rows in X\n",
    "        pass\n",
    "    def Test(self, X, ClsIndx):\n",
    "        pass\n",
    "    def GetProbs(self):\n",
    "        pass\n",
    "    def GetPredictions(self):\n",
    "        pass\n",
    "    def Learn(self, X, ClsIndx, lrate):\n",
    "        pass\n",
    "        \n"
   ]
  },
  {
   "cell_type": "markdown",
   "metadata": {},
   "source": [
    "### Sofmax layer for multiclass classification problems - constructor"
   ]
  },
  {
   "cell_type": "code",
   "execution_count": null,
   "metadata": {},
   "outputs": [],
   "source": [
    "import numpy as np\n",
    "import matplotlib.pyplot as plt\n",
    "\n",
    "class SoftMaxLinear:\n",
    "    def __init__(self, inputs_num, outputs_num):\n",
    "        self.inum = inputs_num\n",
    "        self.onum = outputs_num\n",
    "        self.W = (-1 + 2*np.random.rand(inputs_num, outputs_num))/100.0 #neurons as columns\n",
    "        self.b = np.zeros((1, outputs_num)) #horizontal vector\n",
    "        self.probs = None\n",
    "    def Forward(self, X): #examples as rows in X\n",
    "        pass\n",
    "    def Test(self, X, ClsIndx):\n",
    "        pass\n",
    "    def GetProbs(self):\n",
    "        pass\n",
    "    def GetPredictions(self):\n",
    "        pass\n",
    "    def Learn(self, X, ClsIndx, lrate):\n",
    "        pass\n",
    "        \n"
   ]
  },
  {
   "cell_type": "markdown",
   "metadata": {},
   "source": [
    "### Sofmax layer for multiclass classification problems - forward calculation"
   ]
  },
  {
   "cell_type": "code",
   "execution_count": null,
   "metadata": {},
   "outputs": [],
   "source": [
    "import numpy as np\n",
    "import matplotlib.pyplot as plt\n",
    "\n",
    "class SoftMaxLinear:\n",
    "    def __init__(self, inputs_num, outputs_num):\n",
    "        self.inum = inputs_num\n",
    "        self.onum = outputs_num\n",
    "        self.W = (-1 + 2*np.random.rand(inputs_num, outputs_num))/100.0 #neurons as columns\n",
    "        self.b = np.zeros((1, outputs_num)) #horizontal vector\n",
    "        self.probs = None\n",
    "    def Forward(self, X): #examples as rows in X\n",
    "        f = np.dot(X, self.W) + self.b\n",
    "        print('\\nf=',f)\n",
    "        f -= np.max(f, axis=1, keepdims=True) #trick for numerical stability\n",
    "        print('\\nf trick=',f)\n",
    "        probs = np.exp(f)\n",
    "        print('\\nexp=',probs)\n",
    "        probs /= np.sum(probs, axis=1, keepdims=True)\n",
    "        print('\\nprobs normalized',probs)\n",
    "        self.probs = probs\n",
    "    def Test(self, X, ClsIndx):\n",
    "        pass\n",
    "    def GetProbs(self):\n",
    "        pass\n",
    "    def GetPredictions(self):\n",
    "        pass\n",
    "    def Learn(self, X, ClsIndx, lrate):\n",
    "        pass\n",
    "        \n",
    "\n",
    "X = np.loadtxt('data.txt')\n",
    "labels = X[:,-1].astype('int32')\n",
    "X = X[:,:-1]\n",
    "print('X=',X) \n",
    "print()\n",
    "print('labels=',labels)\n",
    "print()\n",
    "\n",
    "net = SoftMaxLinear(2, 3)\n",
    "net.Forward(X)        "
   ]
  },
  {
   "cell_type": "markdown",
   "metadata": {},
   "source": [
    "### Sofmax layer for multiclass classification problems - testing the answers"
   ]
  },
  {
   "cell_type": "code",
   "execution_count": null,
   "metadata": {},
   "outputs": [],
   "source": [
    "import numpy as np\n",
    "import matplotlib.pyplot as plt\n",
    "\n",
    "class SoftMaxLinear:\n",
    "    def __init__(self, inputs_num, outputs_num):\n",
    "        self.inum = inputs_num\n",
    "        self.onum = outputs_num\n",
    "        self.W = (-1 + 2*np.random.rand(inputs_num, outputs_num))/100.0 #neurons as columns\n",
    "        self.b = np.zeros((1, outputs_num)) #horizontal vector\n",
    "        self.probs = None\n",
    "    def Forward(self, X): #examples as rows in X\n",
    "        f = np.dot(X, self.W) + self.b\n",
    "        f -= np.max(f, axis=1, keepdims=True) #trick for numerical stability\n",
    "        probs = np.exp(f)\n",
    "        probs /= np.sum(probs, axis=1, keepdims=True)\n",
    "        self.probs = probs\n",
    "    def Test(self, X, ClsIndx):\n",
    "        self.Forward(X)\n",
    "        #data loss: mean cross-entropy loss\n",
    "        ex_num = X.shape[0]\n",
    "        data_loss = -np.log(self.probs[range(ex_num),ClsIndx]).sum()/ex_num\n",
    "        #classification error\n",
    "        predictions = self.GetPredictions()\n",
    "        errors_num = np.sum(predictions != ClsIndx)\n",
    "        error_rate = errors_num / ex_num\n",
    "        return (data_loss, error_rate, errors_num)\n",
    "    def GetProbs(self):\n",
    "        return self.probs\n",
    "    def GetPredictions(self):\n",
    "        return np.argmax(self.probs, axis=1)\n",
    "    def Learn(self, X, ClsIndx, lrate):\n",
    "        pass\n",
    "\n",
    "\n",
    "X = np.loadtxt('data.txt')\n",
    "labels = X[:,-1].astype('int32')\n",
    "X = X[:,:-1]\n",
    "print(X)\n",
    "print(labels)\n",
    "\n",
    "net = SoftMaxLinear(2, 3)\n",
    "(dloss, erate, errors) = net.Test(X, labels)\n",
    "print('dloss:',dloss)\n",
    "print('erate:',erate)\n",
    "print('errors:',errors)\n"
   ]
  },
  {
   "attachments": {
    "image.png": {
     "image/png": "[encoded data removed]"
    }
   },
   "cell_type": "markdown",
   "metadata": {},
   "source": [
    "### Sofmax layer for multiclass classification problems - training\n",
    "\n",
    "The chain rules is used:\n",
    "\n",
    "![image.png](attachment:image.png)"
   ]
  },
  {
   "attachments": {
    "image.png": {
     "image/png": "[encoded data removed]"
    }
   },
   "cell_type": "markdown",
   "metadata": {},
   "source": [
    "![image.png](attachment:image.png)"
   ]
  },
  {
   "cell_type": "code",
   "execution_count": null,
   "metadata": {},
   "outputs": [],
   "source": [
    "import numpy as np\n",
    "import matplotlib.pyplot as plt\n",
    "\n",
    "class SoftMaxLinear:\n",
    "    def __init__(self, inputs_num, outputs_num):\n",
    "        self.inum = inputs_num\n",
    "        self.onum = outputs_num\n",
    "        self.W = (-1 + 2*np.random.rand(inputs_num, outputs_num))/100.0 #neurons as columns\n",
    "        self.b = np.zeros((1, outputs_num)) #horizontal vector\n",
    "        self.probs = None\n",
    "    def Forward(self, X): #examples as rows in X\n",
    "        f = np.dot(X, self.W) + self.b\n",
    "        f -= np.max(f, axis=1, keepdims=True) #trick for numerical stability\n",
    "        probs = np.exp(f)\n",
    "        probs /= np.sum(probs, axis=1, keepdims=True)\n",
    "        self.probs = probs\n",
    "    def Test(self, X, ClsIndx):\n",
    "        self.Forward(X)\n",
    "        #data loss: mean cross-entropy loss\n",
    "        ex_num = X.shape[0]\n",
    "        data_loss = -np.log(self.probs[range(ex_num),ClsIndx]).sum()/ex_num\n",
    "        #classification error\n",
    "        predictions = np.argmax(self.probs, axis=1)\n",
    "        errors_num = np.sum(predictions != ClsIndx)\n",
    "        error_rate = errors_num / ex_num\n",
    "        return (data_loss, error_rate, errors_num)\n",
    "    def GetProbs(self):\n",
    "        return self.probs\n",
    "    def GetPredictions(self):\n",
    "        return np.argmax(self.probs, axis=1)\n",
    "    def Learn(self, X, ClsIndx, lrate): #just one epoch here\n",
    "        self.Forward(X)\n",
    "        #gradients of outputs (class probabilities)\n",
    "        ex_num = X.shape[0]\n",
    "        dprobs = self.probs.copy()\n",
    "        dprobs[range(ex_num), ClsIndx] -= 1.0\n",
    "        dprobs /= ex_num #average over all examples\n",
    "        print('dprobs')\n",
    "        print(dprobs)\n",
    "        #gradient of weights and biases\n",
    "        dW = np.dot(X.T, dprobs) # chain rule to calculate gradients\n",
    "        db = np.sum(dprobs, axis=0,keepdims=True)\n",
    "        print('dW')\n",
    "        print(dW)\n",
    "        print('db')\n",
    "        print(db)\n",
    "        #update neurons\n",
    "        self.W = self.W - lrate*dW\n",
    "        self.b = self.b - lrate*db\n",
    "        print('W')\n",
    "        print(net.W)\n",
    "        print('b')\n",
    "        print(net.b)\n",
    "        \n",
    "\n",
    "X = np.loadtxt('data.txt')\n",
    "labels = X[:,-1].astype('int32')\n",
    "X = X[:,:-1]\n",
    "print(X)\n",
    "print(labels)\n",
    "\n",
    "print()\n",
    "\n",
    "net = SoftMaxLinear(2, 3)\n",
    "\n",
    "(dloss, erate, errors) = net.Test(X, labels)\n",
    "print('dloss:',dloss)\n",
    "print('erate:',erate)\n",
    "print('errors:',errors)\n",
    "print(net.GetPredictions())\n",
    "\n",
    "print('starting learning...')\n",
    "counter = 0\n",
    "while True:\n",
    "    net.Learn(X, labels, 1)\n",
    "    (dloss, erate, errors) = net.Test(X, labels)\n",
    "    print('\\n\\niteration', counter+1)\n",
    "    print('probs:\\n',net.probs)\n",
    "    print('dloss:',dloss)\n",
    "    print('erate:',erate)\n",
    "    print('errors:',errors)\n",
    "    print(net.GetPredictions())\n",
    "    counter += 1\n",
    "    if dloss < 0.1:\n",
    "        break\n",
    "print('learning finished')\n"
   ]
  },
  {
   "cell_type": "markdown",
   "metadata": {},
   "source": [
    "### Task 1\n",
    "\n",
    "THIS TASK IS NOT OBLIGATORY. DO IT ONLY IF YOU WANT.\n",
    "\n",
    "- Implement a Python class for RBF network with softmax output layer.\n",
    "\n",
    "- As the starting point, use the RBF class with Widrow-Hoff models as output layer (see the previous notebook)\n",
    "\n",
    "- Show example working of your code on data_3classes_nonlinear_2D.txt and diabetes datasets"
   ]
  },
  {
   "cell_type": "code",
   "execution_count": null,
   "metadata": {},
   "outputs": [],
   "source": [
    "#YOUR CODE HERE"
   ]
  }
 ],
 "metadata": {
  "kernelspec": {
   "display_name": "Python 3",
   "language": "python",
   "name": "python3"
  },
  "language_info": {
   "codemirror_mode": {
    "name": "ipython",
    "version": 3
   },
   "file_extension": ".py",
   "mimetype": "text/x-python",
   "name": "python",
   "nbconvert_exporter": "python",
   "pygments_lexer": "ipython3",
   "version": "3.7.4"
  }
 },
 "nbformat": 4,
 "nbformat_minor": 2
}
